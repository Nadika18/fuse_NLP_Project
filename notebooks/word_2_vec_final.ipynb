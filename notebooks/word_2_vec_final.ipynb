{
 "cells": [
  {
   "cell_type": "code",
   "execution_count": 18,
   "metadata": {},
   "outputs": [],
   "source": [
    "import pandas as pd\n",
    "import numpy as np\n",
    "import nltk\n",
    "from nltk.corpus import stopwords\n",
    "from nltk.tokenize import word_tokenize\n",
    "import re\n",
    "from sklearn.model_selection import train_test_split\n",
    "from sklearn.pipeline import Pipeline\n",
    "from sklearn.ensemble import RandomForestClassifier\n",
    "from sklearn.metrics import classification_report\n",
    "from gensim.models import Word2Vec\n",
    "from sklearn.preprocessing import LabelEncoder\n",
    "from nltk.tokenize import word_tokenize\n",
    "import numpy as np"
   ]
  },
  {
   "cell_type": "code",
   "execution_count": 19,
   "metadata": {},
   "outputs": [],
   "source": [
    "pd.set_option('display.max_colwidth',None) \n",
    "df=pd.read_excel(\"updated_text_data.xlsx\")\n",
    "nepali_stopwords = set(stopwords.words('nepali'))\n",
    "english_stopwords = set(stopwords.words('english'))"
   ]
  },
  {
   "cell_type": "code",
   "execution_count": 20,
   "metadata": {},
   "outputs": [
    {
     "data": {
      "text/plain": [
       "Index(['गुनासो वर्ग', 'गुनासो'], dtype='object')"
      ]
     },
     "execution_count": 20,
     "metadata": {},
     "output_type": "execute_result"
    }
   ],
   "source": [
    "df.columns"
   ]
  },
  {
   "cell_type": "code",
   "execution_count": 21,
   "metadata": {},
   "outputs": [
    {
     "data": {
      "text/plain": [
       "गुनासो वर्ग\n",
       "वेबसाइट तथा अभिलेख व्यवस्थापन सम्बन्धी       2863\n",
       "सोधपुछ, सुझाव, प्रशंसा सम्बन्धी              1899\n",
       "कर्मचारी सम्वन्धी                            1384\n",
       "स्वास्थ्यसँग सम्बन्धी                         899\n",
       "अर्थ सबन्धी                                   856\n",
       "खानेपानी सम्बन्धी                             770\n",
       "सूचना तथा  संचार सम्बन्धी                     642\n",
       "शान्ति सुरक्षा सम्बन्धी                       562\n",
       "प्राकृतिक श्रोत/साधन सम्बन्धी                 233\n",
       "लागु पदार्थ सम्बन्धी                          159\n",
       "अर्थिक अनियमितता तथा भ्रष्टाचार सम्बन्धी       68\n",
       "Name: count, dtype: int64"
      ]
     },
     "execution_count": 21,
     "metadata": {},
     "output_type": "execute_result"
    }
   ],
   "source": [
    "df['गुनासो वर्ग'].value_counts()"
   ]
  },
  {
   "cell_type": "code",
   "execution_count": 22,
   "metadata": {},
   "outputs": [],
   "source": [
    "def preprocess_text(text):\n",
    "    # Convert to lowercase\n",
    "    text = text.lower()\n",
    "    # Remove specified characters\n",
    "    text = re.sub('[#\\\\/।(),०-९<<?!,—–’‘:\\u200d]', '', text)\n",
    "    # Strip double quotes\n",
    "    text = text.strip('\"')\n",
    "\n",
    "    # Tokenize the text\n",
    "    words=word_tokenize(text)\n",
    "    # Remove stop words for both Nepali and English\n",
    "    filtered_words = [word for word in words if word.lower() not in nepali_stopwords and word.lower() not in english_stopwords]\n",
    "    # Join the filtered words to form the processed text\n",
    "    processed_text = ' '.join(filtered_words)\n",
    "    return processed_text\n"
   ]
  },
  {
   "cell_type": "code",
   "execution_count": 23,
   "metadata": {},
   "outputs": [],
   "source": [
    "df_1=df[df['गुनासो वर्ग']=='वेबसाइट तथा अभिलेख व्यवस्थापन सम्बन्धी ']\n",
    "df_2=df[df['गुनासो वर्ग']=='सोधपुछ, सुझाव, प्रशंसा सम्बन्धी'].sample(2863,replace=True)\n",
    "df_2 = df_2.reset_index(drop=True)\n",
    "df_3=df[df['गुनासो वर्ग']=='कर्मचारी सम्वन्धी '].sample(2863,replace=True)\n",
    "df_3 = df_3.reset_index(drop=True)\n",
    "df_4=df[df['गुनासो वर्ग']=='स्वास्थ्यसँग सम्बन्धी'].sample(2863,replace=True)\n",
    "df_4 = df_4.reset_index(drop=True)\n",
    "df_5=df[df['गुनासो वर्ग']=='अर्थ सबन्धी '].sample(2863,replace=True)\n",
    "df_5 = df_5.reset_index(drop=True)\n",
    "df_6=df[df['गुनासो वर्ग']=='खानेपानी सम्बन्धी '].sample(2863,replace=True)\n",
    "df_6 = df_6.reset_index(drop=True)\n",
    "df_7=df[df['गुनासो वर्ग']=='सूचना तथा  संचार सम्बन्धी'].sample(2863,replace=True)\n",
    "df_7 = df_7.reset_index(drop=True)\n",
    "df_8=df[df['गुनासो वर्ग']=='शान्ति सुरक्षा सम्बन्धी '].sample(2863,replace=True)\n",
    "df_8 = df_8.reset_index(drop=True)\n",
    "df_9=df[df['गुनासो वर्ग']=='प्राकृतिक श्रोत/साधन सम्बन्धी'].sample(2863,replace=True)\n",
    "df_9 =df_9.reset_index(drop=True)\n",
    "df_10=df[df['गुनासो वर्ग']=='लागु पदार्थ सम्बन्धी '].sample(2863,replace=True)\n",
    "df_10 = df_10.reset_index(drop=True)\n",
    "df_11=df[df['गुनासो वर्ग']=='अर्थिक अनियमितता तथा भ्रष्टाचार सम्बन्धी '].sample(2863,replace=True)\n",
    "df_11 = df_11.reset_index(drop=True)\n",
    "\n"
   ]
  },
  {
   "cell_type": "code",
   "execution_count": 24,
   "metadata": {},
   "outputs": [],
   "source": [
    "df_final=pd.concat([df_1,df_2,df_3,df_4,df_5,df_6,df_7,df_8,df_9,df_10,df_11],axis=0)"
   ]
  },
  {
   "cell_type": "code",
   "execution_count": 25,
   "metadata": {},
   "outputs": [
    {
     "data": {
      "text/plain": [
       "गुनासो वर्ग\n",
       "वेबसाइट तथा अभिलेख व्यवस्थापन सम्बन्धी       2863\n",
       "सोधपुछ, सुझाव, प्रशंसा सम्बन्धी              2863\n",
       "कर्मचारी सम्वन्धी                            2863\n",
       "स्वास्थ्यसँग सम्बन्धी                        2863\n",
       "अर्थ सबन्धी                                  2863\n",
       "खानेपानी सम्बन्धी                            2863\n",
       "सूचना तथा  संचार सम्बन्धी                    2863\n",
       "शान्ति सुरक्षा सम्बन्धी                      2863\n",
       "प्राकृतिक श्रोत/साधन सम्बन्धी                2863\n",
       "लागु पदार्थ सम्बन्धी                         2863\n",
       "अर्थिक अनियमितता तथा भ्रष्टाचार सम्बन्धी     2863\n",
       "Name: count, dtype: int64"
      ]
     },
     "execution_count": 25,
     "metadata": {},
     "output_type": "execute_result"
    }
   ],
   "source": [
    "df_final['गुनासो वर्ग'].value_counts()"
   ]
  },
  {
   "cell_type": "code",
   "execution_count": 26,
   "metadata": {},
   "outputs": [],
   "source": [
    "df_final['गुनासो']=df_final['गुनासो'].apply(preprocess_text)"
   ]
  },
  {
   "cell_type": "code",
   "execution_count": 28,
   "metadata": {},
   "outputs": [],
   "source": [
    "model_path = \"../complaints/nepaliW2V_5Million.model\"  # Replace with the path to your model file\n",
    "model = Word2Vec.load(model_path)"
   ]
  },
  {
   "cell_type": "code",
   "execution_count": 29,
   "metadata": {},
   "outputs": [],
   "source": [
    "# Function to convert text to vectors\n",
    "def text_to_vector(text):\n",
    "    vector = np.zeros(model.vector_size)\n",
    "    count = 0\n",
    "    for word in word_tokenize(text):\n",
    "        if word in model.wv:\n",
    "            vector += model.wv[word]\n",
    "            count += 1\n",
    "    if count != 0:\n",
    "        vector /= count\n",
    "    return vector"
   ]
  },
  {
   "cell_type": "code",
   "execution_count": 30,
   "metadata": {},
   "outputs": [
    {
     "data": {
      "text/html": [
       "<div>\n",
       "<style scoped>\n",
       "    .dataframe tbody tr th:only-of-type {\n",
       "        vertical-align: middle;\n",
       "    }\n",
       "\n",
       "    .dataframe tbody tr th {\n",
       "        vertical-align: top;\n",
       "    }\n",
       "\n",
       "    .dataframe thead th {\n",
       "        text-align: right;\n",
       "    }\n",
       "</style>\n",
       "<table border=\"1\" class=\"dataframe\">\n",
       "  <thead>\n",
       "    <tr style=\"text-align: right;\">\n",
       "      <th></th>\n",
       "      <th>गुनासो वर्ग</th>\n",
       "      <th>गुनासो</th>\n",
       "      <th>गुनासो vector</th>\n",
       "    </tr>\n",
       "  </thead>\n",
       "  <tbody>\n",
       "    <tr>\n",
       "      <th>816</th>\n",
       "      <td>शान्ति सुरक्षा सम्बन्धी</td>\n",
       "      <td>सुर्खेतमा प्रहरीको कुटपिटबाट युवाको ज्यान गएको प्रहरीको कुटपिटबाट कालीकोट तिलागुफा नगरपालिकाका बर्षिया मिनी भनिने कृष्ण हमालको ज्यान गएको \\r\\n\\r\\nशुक्रबार साँझ भे क नम्बरको गाडीमा चढेर नेपालगञ्जबाट सुर्खेत आउँदै गर्दा वीरेन्द्रनगरमा सुब्बाकुना प्रहरी चेकपोष्टका असई शेरर्सिंह धामी सहितका प्रहरीले मदिरा सेवन भन्दै निर्घात कुटपिट गम्भीर घाइते बनाएको गम्भीर अवस्थामा हिजो शनिबार मृत्यु प्रहरीको कुटाईबाट चालक सहचालक घाइते भएका मदिरा खाएको विषयमा उनीहरू बिच विवाद हुँदा प्रहरीबाट कुटिएका चालक सहचालकलाई असई धामी लगायत प्रहरीले कुट्न थालेपछि कानुनी कारवाही गर्नुस् नहान्नुस् भनेर गएका हमाललाई असईले अण्डकोष पेटमा लात हानेको \\r\\nप्रहरीको कुटपिटबाट मारिने हमाल कालिकोटका व्यापारी यस्ता ब्यवसायिक गतिविधि जनताको सुरक्षामा प्रत्यक्ष खट्नुपर्ने स्वयं प्रहरी कर्मचारीले सामान्य कुरालाई लिएर अपनाउनुपर्ने कानुनी कारबाही समेत नपनाइ सिधैं कुटि कुटि मान्छे मार्नुसम्मको कार्य अत्यन्तै खेदजनक बिषयमा तालुक प्रहरी प्रधान कार्यालय नक्सालको ध्यानाकर्षण हुनु जरुरत</td>\n",
       "      <td>[-0.1843249185360037, -0.2924303404724924, -0.2972263690608088, -0.029491029685596006, 0.395877386193024, -0.2226335498620756, -0.17098689458798616, 0.34537399145774544, -0.11252742039068835, -0.31001889814215244, 0.050251959862362125, 0.1593905918096425, 0.1755282203092065, 0.35888933683127106, -0.13902211690947297, -0.2651445815397892, -0.1060202281747479, -0.12259937388007529, 0.2692199659970356, -0.06258093094365905, 0.24642385317129084, 0.3315909841679968, -0.07606472560000839, 0.33988343379605795, -0.19078270747268106, -0.18262266719539183, 0.10094168112664192, 0.40354591582436117, 0.12370441061793827, -0.21278021993348376, 0.15310130446887343, 0.22665852313730284, -0.3830825383294723, -0.052131741229095495, 0.17148649105984076, 0.12256969717564062, -0.01885923907102551, 0.28484048168174925, 0.11502761839074083, 0.19496035707707052, -0.46830082827655134, 0.23352747606695629, 0.4689543927554041, -0.2794539676804561, -0.09688915507285856, -0.2803253652622516, 0.1913034151250031, 0.19475909760476498, 0.29045284559833817, 0.47240592583839314, 0.11520905760407914, 0.38736826795211526, -0.14948485258501024, -0.11615910962573253, 0.49855239752214403, -0.03065954437770415, -0.4337606046174187, 0.07650151037523756, 0.2814054260692501, 0.08021181747317314, 0.2528784754079879, -0.04798889532976318, -0.29343273083213717, 0.2301498419197742, 0.3815815290843602, 0.1658493544891826, -0.06286950678622816, -0.11050436359946617, 0.07025271072634495, 0.21573139942483976, 0.7639636098349001, 0.23003764816676267, -0.12096737966639921, 0.16367766361800024, -0.19266844765515997, -0.31259993894491345, 0.29053012177464554, 0.05228111617034301, -0.012708049725915771, -0.2952915588437463, 0.057606427907012404, 0.1579004093480762, -0.10273861768946517, 0.03726771486690268, 0.2897193014534423, 0.5658653832622804, -0.1091642755040084, 0.190349077002611, -0.02756236890618311, -0.07192670651475055, -0.6401833182200789, -0.1417020465611131, -0.27383591474208513, -0.14953715603624004, 0.2105263782199472, 0.06672329755165265, 0.15755467013223096, 0.24699790304293856, -0.24108730220323196, 0.24004438929259778, ...]</td>\n",
       "    </tr>\n",
       "  </tbody>\n",
       "</table>\n",
       "</div>"
      ],
      "text/plain": [
       "                  गुनासो वर्ग  \\\n",
       "816  शान्ति सुरक्षा सम्बन्धी    \n",
       "\n",
       "                                                                                                                                                                                                                                                                                                                                                                                                                                                                                                                                                                                                                                                                                                                                                                                                                                                                                                                                                                                गुनासो  \\\n",
       "816  सुर्खेतमा प्रहरीको कुटपिटबाट युवाको ज्यान गएको प्रहरीको कुटपिटबाट कालीकोट तिलागुफा नगरपालिकाका बर्षिया मिनी भनिने कृष्ण हमालको ज्यान गएको \\r\\n\\r\\nशुक्रबार साँझ भे क नम्बरको गाडीमा चढेर नेपालगञ्जबाट सुर्खेत आउँदै गर्दा वीरेन्द्रनगरमा सुब्बाकुना प्रहरी चेकपोष्टका असई शेरर्सिंह धामी सहितका प्रहरीले मदिरा सेवन भन्दै निर्घात कुटपिट गम्भीर घाइते बनाएको गम्भीर अवस्थामा हिजो शनिबार मृत्यु प्रहरीको कुटाईबाट चालक सहचालक घाइते भएका मदिरा खाएको विषयमा उनीहरू बिच विवाद हुँदा प्रहरीबाट कुटिएका चालक सहचालकलाई असई धामी लगायत प्रहरीले कुट्न थालेपछि कानुनी कारवाही गर्नुस् नहान्नुस् भनेर गएका हमाललाई असईले अण्डकोष पेटमा लात हानेको \\r\\nप्रहरीको कुटपिटबाट मारिने हमाल कालिकोटका व्यापारी यस्ता ब्यवसायिक गतिविधि जनताको सुरक्षामा प्रत्यक्ष खट्नुपर्ने स्वयं प्रहरी कर्मचारीले सामान्य कुरालाई लिएर अपनाउनुपर्ने कानुनी कारबाही समेत नपनाइ सिधैं कुटि कुटि मान्छे मार्नुसम्मको कार्य अत्यन्तै खेदजनक बिषयमा तालुक प्रहरी प्रधान कार्यालय नक्सालको ध्यानाकर्षण हुनु जरुरत   \n",
       "\n",
       "                                                                                                                                                                                                                                                                                                                                                                                                                                                                                                                                                                                                                                                                                                                                                                                                                                                                                                                                                                                                                                                                                                                                                                                                                                                                                                                                                                                                                                                                                                                                                                                                                                                                                                                                                                                                                                                                                                                                                                                                                                                                                                                                                                                                  गुनासो vector  \n",
       "816  [-0.1843249185360037, -0.2924303404724924, -0.2972263690608088, -0.029491029685596006, 0.395877386193024, -0.2226335498620756, -0.17098689458798616, 0.34537399145774544, -0.11252742039068835, -0.31001889814215244, 0.050251959862362125, 0.1593905918096425, 0.1755282203092065, 0.35888933683127106, -0.13902211690947297, -0.2651445815397892, -0.1060202281747479, -0.12259937388007529, 0.2692199659970356, -0.06258093094365905, 0.24642385317129084, 0.3315909841679968, -0.07606472560000839, 0.33988343379605795, -0.19078270747268106, -0.18262266719539183, 0.10094168112664192, 0.40354591582436117, 0.12370441061793827, -0.21278021993348376, 0.15310130446887343, 0.22665852313730284, -0.3830825383294723, -0.052131741229095495, 0.17148649105984076, 0.12256969717564062, -0.01885923907102551, 0.28484048168174925, 0.11502761839074083, 0.19496035707707052, -0.46830082827655134, 0.23352747606695629, 0.4689543927554041, -0.2794539676804561, -0.09688915507285856, -0.2803253652622516, 0.1913034151250031, 0.19475909760476498, 0.29045284559833817, 0.47240592583839314, 0.11520905760407914, 0.38736826795211526, -0.14948485258501024, -0.11615910962573253, 0.49855239752214403, -0.03065954437770415, -0.4337606046174187, 0.07650151037523756, 0.2814054260692501, 0.08021181747317314, 0.2528784754079879, -0.04798889532976318, -0.29343273083213717, 0.2301498419197742, 0.3815815290843602, 0.1658493544891826, -0.06286950678622816, -0.11050436359946617, 0.07025271072634495, 0.21573139942483976, 0.7639636098349001, 0.23003764816676267, -0.12096737966639921, 0.16367766361800024, -0.19266844765515997, -0.31259993894491345, 0.29053012177464554, 0.05228111617034301, -0.012708049725915771, -0.2952915588437463, 0.057606427907012404, 0.1579004093480762, -0.10273861768946517, 0.03726771486690268, 0.2897193014534423, 0.5658653832622804, -0.1091642755040084, 0.190349077002611, -0.02756236890618311, -0.07192670651475055, -0.6401833182200789, -0.1417020465611131, -0.27383591474208513, -0.14953715603624004, 0.2105263782199472, 0.06672329755165265, 0.15755467013223096, 0.24699790304293856, -0.24108730220323196, 0.24004438929259778, ...]  "
      ]
     },
     "execution_count": 30,
     "metadata": {},
     "output_type": "execute_result"
    }
   ],
   "source": [
    "df_final['गुनासो vector'] = df_final['गुनासो'].apply(text_to_vector)\n",
    "df_final.sample(1)"
   ]
  },
  {
   "cell_type": "code",
   "execution_count": 31,
   "metadata": {},
   "outputs": [],
   "source": [
    "le = LabelEncoder()\n",
    "y = le.fit_transform(df_final['गुनासो वर्ग'])"
   ]
  },
  {
   "cell_type": "code",
   "execution_count": 32,
   "metadata": {},
   "outputs": [
    {
     "name": "stdout",
     "output_type": "stream",
     "text": [
      "Label Mapping:\n",
      "{'अर्थ सबन्धी ': 0, 'अर्थिक अनियमितता तथा भ्रष्टाचार सम्बन्धी ': 1, 'कर्मचारी सम्वन्धी ': 2, 'खानेपानी सम्बन्धी ': 3, 'प्राकृतिक श्रोत/साधन सम्बन्धी': 4, 'लागु पदार्थ सम्बन्धी ': 5, 'वेबसाइट तथा अभिलेख व्यवस्थापन सम्बन्धी ': 6, 'शान्ति सुरक्षा सम्बन्धी ': 7, 'सूचना तथा  संचार सम्बन्धी': 8, 'सोधपुछ, सुझाव, प्रशंसा सम्बन्धी': 9, 'स्वास्थ्यसँग सम्बन्धी': 10}\n"
     ]
    }
   ],
   "source": [
    "# Mapping between original labels and encoded values\n",
    "label_mapping = dict(zip(le.classes_, le.transform(le.classes_)))\n",
    "\n",
    "# Display the mapping\n",
    "print(\"Label Mapping:\")\n",
    "print(label_mapping)"
   ]
  },
  {
   "cell_type": "code",
   "execution_count": 33,
   "metadata": {},
   "outputs": [],
   "source": [
    "X = np.vstack(df_final['गुनासो vector'])"
   ]
  },
  {
   "cell_type": "code",
   "execution_count": 34,
   "metadata": {},
   "outputs": [],
   "source": [
    "X_train, X_test, y_train, y_test = train_test_split(X, y, test_size=0.2, random_state=42,stratify=y)\n"
   ]
  },
  {
   "cell_type": "code",
   "execution_count": 35,
   "metadata": {},
   "outputs": [
    {
     "name": "stdout",
     "output_type": "stream",
     "text": [
      "              precision    recall  f1-score   support\n",
      "\n",
      "           0       0.88      0.78      0.83       572\n",
      "           1       1.00      1.00      1.00       573\n",
      "           2       0.88      0.85      0.87       573\n",
      "           3       0.91      0.77      0.83       573\n",
      "           4       0.99      0.87      0.92       573\n",
      "           5       1.00      0.97      0.98       572\n",
      "           6       0.33      0.74      0.46       573\n",
      "           7       0.95      0.60      0.74       573\n",
      "           8       0.88      0.81      0.84       573\n",
      "           9       0.80      0.65      0.71       572\n",
      "          10       0.91      0.78      0.84       572\n",
      "\n",
      "    accuracy                           0.80      6299\n",
      "   macro avg       0.87      0.80      0.82      6299\n",
      "weighted avg       0.87      0.80      0.82      6299\n",
      "\n"
     ]
    }
   ],
   "source": [
    "# Initialize and train a Random Forest model\n",
    "rf_model = RandomForestClassifier(n_estimators=100, random_state=42)\n",
    "rf_model.fit(X_train, y_train)\n",
    "predictions = rf_model.predict(X_test)\n",
    "print(classification_report(y_test, predictions))\n"
   ]
  },
  {
   "cell_type": "code",
   "execution_count": 23,
   "metadata": {},
   "outputs": [
    {
     "data": {
      "text/plain": [
       "array(['वेबसाइट तथा अभिलेख व्यवस्थापन सम्बन्धी '], dtype=object)"
      ]
     },
     "execution_count": 23,
     "metadata": {},
     "output_type": "execute_result"
    }
   ],
   "source": [
    "test_text='वेबसाइट नखुलेको'\n",
    "preprocessed_text=preprocess_text(test_text)\n",
    "test_text_vector=text_to_vector(preprocessed_text)\n",
    "predicted_test_class=rf_model.predict([test_text_vector])\n",
    "# Decode the encoded data back to original labels\n",
    "decoded_data = le.inverse_transform(predicted_test_class)\n",
    "decoded_data"
   ]
  }
 ],
 "metadata": {
  "kernelspec": {
   "display_name": "venv",
   "language": "python",
   "name": "python3"
  },
  "language_info": {
   "codemirror_mode": {
    "name": "ipython",
    "version": 3
   },
   "file_extension": ".py",
   "mimetype": "text/x-python",
   "name": "python",
   "nbconvert_exporter": "python",
   "pygments_lexer": "ipython3",
   "version": "3.10.12"
  }
 },
 "nbformat": 4,
 "nbformat_minor": 2
}
