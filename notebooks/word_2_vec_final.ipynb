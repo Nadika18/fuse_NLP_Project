{
 "cells": [
  {
   "cell_type": "code",
   "execution_count": 9,
   "metadata": {},
   "outputs": [],
   "source": [
    "import pandas as pd\n",
    "import numpy as np\n",
    "import nltk\n",
    "from nltk.corpus import stopwords\n",
    "from nltk.tokenize import word_tokenize\n",
    "import re\n",
    "from sklearn.model_selection import train_test_split\n",
    "from sklearn.pipeline import Pipeline\n",
    "from sklearn.ensemble import RandomForestClassifier\n",
    "from sklearn.metrics import classification_report\n",
    "from gensim.models import Word2Vec\n",
    "from sklearn.preprocessing import LabelEncoder\n",
    "from nltk.tokenize import word_tokenize\n",
    "import numpy as np"
   ]
  },
  {
   "cell_type": "code",
   "execution_count": 10,
   "metadata": {},
   "outputs": [],
   "source": [
    "pd.set_option('display.max_colwidth',None) \n",
    "df=pd.read_excel(\"dataset/FINAL.xlsx\")\n",
    "nepali_stopwords = set(stopwords.words('nepali'))\n",
    "english_stopwords = set(stopwords.words('english'))"
   ]
  },
  {
   "cell_type": "code",
   "execution_count": 11,
   "metadata": {},
   "outputs": [],
   "source": [
    "def preprocess_text(text):\n",
    "    # Convert to lowercase\n",
    "    text = text.lower()\n",
    "    # Remove specified characters\n",
    "    text = re.sub('[#\\\\/।(),०-९<<?!,—–’‘:\\u200d]', '', text)\n",
    "    # Strip double quotes\n",
    "    text = text.strip('\"')\n",
    "\n",
    "    # Tokenize the text\n",
    "    words=word_tokenize(text)\n",
    "    # Remove stop words for both Nepali and English\n",
    "    filtered_words = [word for word in words if word.lower() not in nepali_stopwords and word.lower() not in english_stopwords]\n",
    "    # Join the filtered words to form the processed text\n",
    "    processed_text = ' '.join(filtered_words)\n",
    "    return processed_text\n"
   ]
  },
  {
   "cell_type": "code",
   "execution_count": 12,
   "metadata": {},
   "outputs": [],
   "source": [
    "df_1=df[df['गुनासो वर्ग']=='वेबसाइट तथा अभिलेख व्यवस्थापन सम्बन्धी ']\n",
    "df_2=df[df['गुनासो वर्ग']=='सोधपुछ, सुझाव, प्रशंसा सम्बन्धी'].sample(2863,replace=True)\n",
    "df_2 = df_2.reset_index(drop=True)\n",
    "df_3=df[df['गुनासो वर्ग']=='कर्मचारी सम्वन्धी '].sample(2863,replace=True)\n",
    "df_3 = df_3.reset_index(drop=True)\n",
    "df_4=df[df['गुनासो वर्ग']=='स्वास्थ्यसँग सम्बन्धी'].sample(2863,replace=True)\n",
    "df_4 = df_4.reset_index(drop=True)\n",
    "df_5=df[df['गुनासो वर्ग']=='अर्थ सबन्धी '].sample(2863,replace=True)\n",
    "df_5 = df_5.reset_index(drop=True)\n",
    "df_6=df[df['गुनासो वर्ग']=='खानेपानी सम्बन्धी '].sample(2863,replace=True)\n",
    "df_6 = df_6.reset_index(drop=True)\n",
    "df_7=df[df['गुनासो वर्ग']=='सूचना तथा  संचार सम्बन्धी'].sample(2863,replace=True)\n",
    "df_7 = df_7.reset_index(drop=True)\n",
    "df_8=df[df['गुनासो वर्ग']=='शान्ति सुरक्षा सम्बन्धी '].sample(2863,replace=True)\n",
    "df_8 = df_8.reset_index(drop=True)\n",
    "df_9=df[df['गुनासो वर्ग']=='प्राकृतिक श्रोत/साधन सम्बन्धी'].sample(2863,replace=True)\n",
    "df_9 =df_9.reset_index(drop=True)\n",
    "df_10=df[df['गुनासो वर्ग']=='लागु पदार्थ सम्बन्धी '].sample(2863,replace=True)\n",
    "df_10 = df_10.reset_index(drop=True)\n",
    "df_11=df[df['गुनासो वर्ग']=='अर्थिक अनियमितता तथा भ्रष्टाचार सम्बन्धी '].sample(2863,replace=True)\n",
    "df_11 = df_11.reset_index(drop=True)\n",
    "df_12=df[df['गुनासो वर्ग']=='सूचना तथा  संचार सम्बन्धी'].sample(2863,replace=True)\n",
    "df_12 = df_12.reset_index(drop=True)\n"
   ]
  },
  {
   "cell_type": "code",
   "execution_count": 13,
   "metadata": {},
   "outputs": [],
   "source": [
    "df_final=pd.concat([df_1,df_2,df_3,df_4,df_5,df_6,df_7,df_8,df_9,df_10,df_11,df_12],axis=0)"
   ]
  },
  {
   "cell_type": "code",
   "execution_count": 14,
   "metadata": {},
   "outputs": [],
   "source": [
    "df_final['गुनासो']=df_final['गुनासो'].apply(preprocess_text)"
   ]
  },
  {
   "cell_type": "code",
   "execution_count": 15,
   "metadata": {},
   "outputs": [],
   "source": [
    "model_path = \"nepaliW2V_5Million.model\"  # Replace with the path to your model file\n",
    "model = Word2Vec.load(model_path)"
   ]
  },
  {
   "cell_type": "code",
   "execution_count": 16,
   "metadata": {},
   "outputs": [],
   "source": [
    "# Function to convert text to vectors\n",
    "def text_to_vector(text):\n",
    "    vector = np.zeros(model.vector_size)\n",
    "    count = 0\n",
    "    for word in word_tokenize(text):\n",
    "        if word in model.wv:\n",
    "            vector += model.wv[word]\n",
    "            count += 1\n",
    "    if count != 0:\n",
    "        vector /= count\n",
    "    return vector"
   ]
  },
  {
   "cell_type": "code",
   "execution_count": 17,
   "metadata": {},
   "outputs": [
    {
     "data": {
      "text/html": [
       "<div>\n",
       "<style scoped>\n",
       "    .dataframe tbody tr th:only-of-type {\n",
       "        vertical-align: middle;\n",
       "    }\n",
       "\n",
       "    .dataframe tbody tr th {\n",
       "        vertical-align: top;\n",
       "    }\n",
       "\n",
       "    .dataframe thead th {\n",
       "        text-align: right;\n",
       "    }\n",
       "</style>\n",
       "<table border=\"1\" class=\"dataframe\">\n",
       "  <thead>\n",
       "    <tr style=\"text-align: right;\">\n",
       "      <th></th>\n",
       "      <th>गुनासो वर्ग</th>\n",
       "      <th>गुनासो</th>\n",
       "      <th>गुनासो vector</th>\n",
       "    </tr>\n",
       "  </thead>\n",
       "  <tbody>\n",
       "    <tr>\n",
       "      <th>7802</th>\n",
       "      <td>वेबसाइट तथा अभिलेख व्यवस्थापन सम्बन्धी</td>\n",
       "      <td>नागरिक एपमा शैक्षिक प्रमाणपत्र hseb bord सहि रजिष्ट्रेशन वा सिम्वल नम्बर उपलब्ध गराउदा बिबररण उपलब्ध नभएको कारण उक्त समस्याको समाधान अनुरोध गर्दछु</td>\n",
       "      <td>[-0.5401463933355574, 0.6830998959818056, 0.7878781963538911, -0.23469670595867292, 0.17163579032889434, -0.18382169585675, 0.657191790964654, -0.09826533562902894, 0.19152869257543767, -1.2496999387762375, -1.0144033224454947, -0.12724126097080962, -0.3220605534567897, -0.4633016527763435, 0.07699588420135635, -0.5151943545788527, 0.5420982586968291, 0.39651280784580323, 0.4090153040098293, 0.5880954470152834, -0.11723461554252676, -0.680291439805712, 0.16200938614617502, -0.6241919889913073, 0.3734993152320385, -0.3155402692833117, 0.16411457669788174, -0.16651700264109032, 0.053308547873582156, -0.13077346727784192, 0.10409616286467228, 0.45688622258603573, 0.16666199997000927, -0.05809408542700112, -0.12086280521803669, -0.7721323234893914, -0.08117228054574557, 0.1483212238111134, -0.10164948922049787, -0.1964542232453823, 0.06393961294088513, 0.7811416773391622, -0.6565437268831634, -0.10163276961871556, -0.037618436983653476, -0.7439871008973569, 0.09358327449964625, 0.6356714977217572, 0.08429508571446474, 0.5462960827031306, -0.040385088484202115, 0.16751835252424435, 0.3042952101677656, 0.00662065703155739, 0.9545551261731556, 0.6881710326831255, -0.8948897986140635, 0.001277039692338024, 0.14565596092143096, 0.32416803419723045, 0.38060850330761503, -0.14124908491170832, 0.08370875513979367, -0.09964418983353036, 0.24769817169622652, -0.14376990916207433, -0.5438164265028068, -0.41031300249908653, -0.5881225521776027, 0.6747023084067872, 0.34765711958919254, 0.22568346409596934, 0.004916738169933004, 0.08351303903119904, 0.00676023810436683, -0.5622417123855225, -0.6328927889283348, 0.1442881498951465, 0.44005324209241997, 0.23848951142281294, 0.35246345347591806, -0.28557958280933754, 0.5907055343102131, -0.11687991648380246, 0.870862087767039, -1.0105346151228463, 0.49641244299709797, 0.8730017224193684, 0.42052845071469036, 0.3392670993427081, 0.21907474659383297, 0.7873928970989904, -0.06897544421787773, -0.020457760696964606, -0.2868327176464455, 0.02032401758645262, 0.03765276979122843, 0.2492721979838929, -0.3682223109395376, -0.11746958634882633, ...]</td>\n",
       "    </tr>\n",
       "  </tbody>\n",
       "</table>\n",
       "</div>"
      ],
      "text/plain": [
       "                                  गुनासो वर्ग  \\\n",
       "7802  वेबसाइट तथा अभिलेख व्यवस्थापन सम्बन्धी    \n",
       "\n",
       "                                                                                                                                                  गुनासो  \\\n",
       "7802  नागरिक एपमा शैक्षिक प्रमाणपत्र hseb bord सहि रजिष्ट्रेशन वा सिम्वल नम्बर उपलब्ध गराउदा बिबररण उपलब्ध नभएको कारण उक्त समस्याको समाधान अनुरोध गर्दछु   \n",
       "\n",
       "                                                                                                                                                                                                                                                                                                                                                                                                                                                                                                                                                                                                                                                                                                                                                                                                                                                                                                                                                                                                                                                                                                                                                                                                                                                                                                                                                                                                                                                                                                                                                                                                                                                                                                                                                                                                                                                                                                                                                                                                                                                                                                                                                                                   गुनासो vector  \n",
       "7802  [-0.5401463933355574, 0.6830998959818056, 0.7878781963538911, -0.23469670595867292, 0.17163579032889434, -0.18382169585675, 0.657191790964654, -0.09826533562902894, 0.19152869257543767, -1.2496999387762375, -1.0144033224454947, -0.12724126097080962, -0.3220605534567897, -0.4633016527763435, 0.07699588420135635, -0.5151943545788527, 0.5420982586968291, 0.39651280784580323, 0.4090153040098293, 0.5880954470152834, -0.11723461554252676, -0.680291439805712, 0.16200938614617502, -0.6241919889913073, 0.3734993152320385, -0.3155402692833117, 0.16411457669788174, -0.16651700264109032, 0.053308547873582156, -0.13077346727784192, 0.10409616286467228, 0.45688622258603573, 0.16666199997000927, -0.05809408542700112, -0.12086280521803669, -0.7721323234893914, -0.08117228054574557, 0.1483212238111134, -0.10164948922049787, -0.1964542232453823, 0.06393961294088513, 0.7811416773391622, -0.6565437268831634, -0.10163276961871556, -0.037618436983653476, -0.7439871008973569, 0.09358327449964625, 0.6356714977217572, 0.08429508571446474, 0.5462960827031306, -0.040385088484202115, 0.16751835252424435, 0.3042952101677656, 0.00662065703155739, 0.9545551261731556, 0.6881710326831255, -0.8948897986140635, 0.001277039692338024, 0.14565596092143096, 0.32416803419723045, 0.38060850330761503, -0.14124908491170832, 0.08370875513979367, -0.09964418983353036, 0.24769817169622652, -0.14376990916207433, -0.5438164265028068, -0.41031300249908653, -0.5881225521776027, 0.6747023084067872, 0.34765711958919254, 0.22568346409596934, 0.004916738169933004, 0.08351303903119904, 0.00676023810436683, -0.5622417123855225, -0.6328927889283348, 0.1442881498951465, 0.44005324209241997, 0.23848951142281294, 0.35246345347591806, -0.28557958280933754, 0.5907055343102131, -0.11687991648380246, 0.870862087767039, -1.0105346151228463, 0.49641244299709797, 0.8730017224193684, 0.42052845071469036, 0.3392670993427081, 0.21907474659383297, 0.7873928970989904, -0.06897544421787773, -0.020457760696964606, -0.2868327176464455, 0.02032401758645262, 0.03765276979122843, 0.2492721979838929, -0.3682223109395376, -0.11746958634882633, ...]  "
      ]
     },
     "execution_count": 17,
     "metadata": {},
     "output_type": "execute_result"
    }
   ],
   "source": [
    "df_final['गुनासो vector'] = df_final['गुनासो'].apply(text_to_vector)\n",
    "df_final.sample(1)"
   ]
  },
  {
   "cell_type": "code",
   "execution_count": 18,
   "metadata": {},
   "outputs": [],
   "source": [
    "le = LabelEncoder()\n",
    "y = le.fit_transform(df_final['गुनासो वर्ग'])"
   ]
  },
  {
   "cell_type": "code",
   "execution_count": 19,
   "metadata": {},
   "outputs": [
    {
     "name": "stdout",
     "output_type": "stream",
     "text": [
      "Label Mapping:\n",
      "{'अर्थ सबन्धी ': 0, 'अर्थिक अनियमितता तथा भ्रष्टाचार सम्बन्धी ': 1, 'कर्मचारी सम्वन्धी ': 2, 'खानेपानी सम्बन्धी ': 3, 'प्राकृतिक श्रोत/साधन सम्बन्धी': 4, 'लागु पदार्थ सम्बन्धी ': 5, 'वेबसाइट तथा अभिलेख व्यवस्थापन सम्बन्धी ': 6, 'शान्ति सुरक्षा सम्बन्धी ': 7, 'सूचना तथा  संचार सम्बन्धी': 8, 'सोधपुछ, सुझाव, प्रशंसा सम्बन्धी': 9, 'स्वास्थ्यसँग सम्बन्धी': 10}\n"
     ]
    }
   ],
   "source": [
    "# Mapping between original labels and encoded values\n",
    "label_mapping = dict(zip(le.classes_, le.transform(le.classes_)))\n",
    "\n",
    "# Display the mapping\n",
    "print(\"Label Mapping:\")\n",
    "print(label_mapping)"
   ]
  },
  {
   "cell_type": "code",
   "execution_count": 20,
   "metadata": {},
   "outputs": [],
   "source": [
    "X = np.vstack(df_final['गुनासो vector'])"
   ]
  },
  {
   "cell_type": "code",
   "execution_count": 21,
   "metadata": {},
   "outputs": [],
   "source": [
    "X_train, X_test, y_train, y_test = train_test_split(X, y, test_size=0.2, random_state=42,stratify=y)\n"
   ]
  },
  {
   "cell_type": "code",
   "execution_count": 22,
   "metadata": {},
   "outputs": [
    {
     "data": {
      "text/html": [
       "<style>#sk-container-id-1 {color: black;}#sk-container-id-1 pre{padding: 0;}#sk-container-id-1 div.sk-toggleable {background-color: white;}#sk-container-id-1 label.sk-toggleable__label {cursor: pointer;display: block;width: 100%;margin-bottom: 0;padding: 0.3em;box-sizing: border-box;text-align: center;}#sk-container-id-1 label.sk-toggleable__label-arrow:before {content: \"▸\";float: left;margin-right: 0.25em;color: #696969;}#sk-container-id-1 label.sk-toggleable__label-arrow:hover:before {color: black;}#sk-container-id-1 div.sk-estimator:hover label.sk-toggleable__label-arrow:before {color: black;}#sk-container-id-1 div.sk-toggleable__content {max-height: 0;max-width: 0;overflow: hidden;text-align: left;background-color: #f0f8ff;}#sk-container-id-1 div.sk-toggleable__content pre {margin: 0.2em;color: black;border-radius: 0.25em;background-color: #f0f8ff;}#sk-container-id-1 input.sk-toggleable__control:checked~div.sk-toggleable__content {max-height: 200px;max-width: 100%;overflow: auto;}#sk-container-id-1 input.sk-toggleable__control:checked~label.sk-toggleable__label-arrow:before {content: \"▾\";}#sk-container-id-1 div.sk-estimator input.sk-toggleable__control:checked~label.sk-toggleable__label {background-color: #d4ebff;}#sk-container-id-1 div.sk-label input.sk-toggleable__control:checked~label.sk-toggleable__label {background-color: #d4ebff;}#sk-container-id-1 input.sk-hidden--visually {border: 0;clip: rect(1px 1px 1px 1px);clip: rect(1px, 1px, 1px, 1px);height: 1px;margin: -1px;overflow: hidden;padding: 0;position: absolute;width: 1px;}#sk-container-id-1 div.sk-estimator {font-family: monospace;background-color: #f0f8ff;border: 1px dotted black;border-radius: 0.25em;box-sizing: border-box;margin-bottom: 0.5em;}#sk-container-id-1 div.sk-estimator:hover {background-color: #d4ebff;}#sk-container-id-1 div.sk-parallel-item::after {content: \"\";width: 100%;border-bottom: 1px solid gray;flex-grow: 1;}#sk-container-id-1 div.sk-label:hover label.sk-toggleable__label {background-color: #d4ebff;}#sk-container-id-1 div.sk-serial::before {content: \"\";position: absolute;border-left: 1px solid gray;box-sizing: border-box;top: 0;bottom: 0;left: 50%;z-index: 0;}#sk-container-id-1 div.sk-serial {display: flex;flex-direction: column;align-items: center;background-color: white;padding-right: 0.2em;padding-left: 0.2em;position: relative;}#sk-container-id-1 div.sk-item {position: relative;z-index: 1;}#sk-container-id-1 div.sk-parallel {display: flex;align-items: stretch;justify-content: center;background-color: white;position: relative;}#sk-container-id-1 div.sk-item::before, #sk-container-id-1 div.sk-parallel-item::before {content: \"\";position: absolute;border-left: 1px solid gray;box-sizing: border-box;top: 0;bottom: 0;left: 50%;z-index: -1;}#sk-container-id-1 div.sk-parallel-item {display: flex;flex-direction: column;z-index: 1;position: relative;background-color: white;}#sk-container-id-1 div.sk-parallel-item:first-child::after {align-self: flex-end;width: 50%;}#sk-container-id-1 div.sk-parallel-item:last-child::after {align-self: flex-start;width: 50%;}#sk-container-id-1 div.sk-parallel-item:only-child::after {width: 0;}#sk-container-id-1 div.sk-dashed-wrapped {border: 1px dashed gray;margin: 0 0.4em 0.5em 0.4em;box-sizing: border-box;padding-bottom: 0.4em;background-color: white;}#sk-container-id-1 div.sk-label label {font-family: monospace;font-weight: bold;display: inline-block;line-height: 1.2em;}#sk-container-id-1 div.sk-label-container {text-align: center;}#sk-container-id-1 div.sk-container {/* jupyter's `normalize.less` sets `[hidden] { display: none; }` but bootstrap.min.css set `[hidden] { display: none !important; }` so we also need the `!important` here to be able to override the default hidden behavior on the sphinx rendered scikit-learn.org. See: https://github.com/scikit-learn/scikit-learn/issues/21755 */display: inline-block !important;position: relative;}#sk-container-id-1 div.sk-text-repr-fallback {display: none;}</style><div id=\"sk-container-id-1\" class=\"sk-top-container\"><div class=\"sk-text-repr-fallback\"><pre>RandomForestClassifier(random_state=42)</pre><b>In a Jupyter environment, please rerun this cell to show the HTML representation or trust the notebook. <br />On GitHub, the HTML representation is unable to render, please try loading this page with nbviewer.org.</b></div><div class=\"sk-container\" hidden><div class=\"sk-item\"><div class=\"sk-estimator sk-toggleable\"><input class=\"sk-toggleable__control sk-hidden--visually\" id=\"sk-estimator-id-1\" type=\"checkbox\" checked><label for=\"sk-estimator-id-1\" class=\"sk-toggleable__label sk-toggleable__label-arrow\">RandomForestClassifier</label><div class=\"sk-toggleable__content\"><pre>RandomForestClassifier(random_state=42)</pre></div></div></div></div></div>"
      ],
      "text/plain": [
       "RandomForestClassifier(random_state=42)"
      ]
     },
     "execution_count": 22,
     "metadata": {},
     "output_type": "execute_result"
    }
   ],
   "source": [
    "# Initialize and train a Random Forest model\n",
    "rf_model = RandomForestClassifier(n_estimators=100, random_state=42)\n",
    "rf_model.fit(X_train, y_train)\n",
    "predictions = rf_model.predict(X_test)\n",
    "print(classification_report(y_test, predictions))\n"
   ]
  },
  {
   "cell_type": "code",
   "execution_count": 23,
   "metadata": {},
   "outputs": [
    {
     "data": {
      "text/plain": [
       "array(['वेबसाइट तथा अभिलेख व्यवस्थापन सम्बन्धी '], dtype=object)"
      ]
     },
     "execution_count": 23,
     "metadata": {},
     "output_type": "execute_result"
    }
   ],
   "source": [
    "test_text='वेबसाइट नखुलेको'\n",
    "preprocessed_text=preprocess_text(test_text)\n",
    "test_text_vector=text_to_vector(preprocessed_text)\n",
    "predicted_test_class=rf_model.predict([test_text_vector])\n",
    "# Decode the encoded data back to original labels\n",
    "decoded_data = le.inverse_transform(predicted_test_class)\n",
    "decoded_data"
   ]
  },
  {
   "cell_type": "code",
   "execution_count": 24,
   "metadata": {},
   "outputs": [],
   "source": [
    "from sklearn.pipeline import Pipeline"
   ]
  },
  {
   "cell_type": "code",
   "execution_count": null,
   "metadata": {},
   "outputs": [],
   "source": [
    "def train(model):\n",
    "    test_text"
   ]
  }
 ],
 "metadata": {
  "kernelspec": {
   "display_name": "venv",
   "language": "python",
   "name": "python3"
  },
  "language_info": {
   "codemirror_mode": {
    "name": "ipython",
    "version": 3
   },
   "file_extension": ".py",
   "mimetype": "text/x-python",
   "name": "python",
   "nbconvert_exporter": "python",
   "pygments_lexer": "ipython3",
   "version": "3.10.12"
  }
 },
 "nbformat": 4,
 "nbformat_minor": 2
}
